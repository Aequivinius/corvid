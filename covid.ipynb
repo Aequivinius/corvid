{
 "cells": [
  {
   "cell_type": "code",
   "execution_count": 17,
   "metadata": {},
   "outputs": [],
   "source": [
    "import pandas\n",
    "import numpy\n",
    "import os\n",
    "\n",
    "def pmctsv_to_txt(inpath):\n",
    "    dataf = pandas.read_csv(inpath,header=0,delimiter='\\t')\n",
    "    dataf['PMCID'] = dataf['PMCID'].str.slice(3)\n",
    "    dataf['PMCID'].replace(\"\", numpy.nan, inplace=True)\n",
    "    dataf.dropna(subset=['PMCID'], inplace=True)\n",
    "    \n",
    "    dataf = dataf[dataf[^] != 0]\n",
    "    \n",
    "    outpath = os.path.join(os.path.dirname(inpath),'pmcid.txt')\n",
    "    dataf['PMCID'].to_csv(outpath, index=False, header=False)\n",
    "        \n",
    "    \n",
    "pmctsv_to_txt('data/pmids/pmid_pmcid.tsv')"
   ]
  },
  {
   "cell_type": "code",
   "execution_count": 1,
   "metadata": {},
   "outputs": [],
   "source": [
    "import json\n",
    "from oger.ctrl.router import Router, PipelineServer\n",
    "\n",
    "def conll_collection_to_jsons():\n",
    "    pl = PipelineServer(Router())\n",
    "    for v in VOCABULARIES:\n",
    "        f = os.path.join('data/harmonised/', v + '.conll')\n",
    "\n",
    "        collection = pl.load_one(f, 'conll')\n",
    "        for document in collection:\n",
    "            title = document[0].text\n",
    "            pmid = document.id_\n",
    "            directory = os.path.join('data/harmonised_json/',v)\n",
    "            if not os.path.exists(directory):\n",
    "                os.makedirs(directory)\n",
    "\n",
    "            outfile = os.path.join(directory, pmid + '.json')\n",
    "            with open(outfile, 'w', encoding='utf8') as g:\n",
    "                pl.write(document, 'pubanno_json', g)\n",
    "            with open(outfile, 'r+', encoding='utf8') as g:\n",
    "                bad_json = json.load(g)\n",
    "                bad_json['sourcedb'] = 'pubmed'\n",
    "                bad_json['sourceid'] = pmid\n",
    "\n",
    "                t = bad_json['text']\n",
    "                tl = len(title)\n",
    "                bad_json['text'] = t[:tl] + ' ' + t[tl:]\n",
    "                good_json = bad_json\n",
    "                g.seek(0)\n",
    "                json.dump(good_json, g)"
   ]
  },
  {
   "cell_type": "code",
   "execution_count": 4,
   "metadata": {},
   "outputs": [],
   "source": [
    "import os\n",
    "from oger.ctrl.router import Router, PipelineServer\n",
    "pl = PipelineServer(Router())\n",
    "import json\n"
   ]
  },
  {
   "cell_type": "code",
   "execution_count": 11,
   "metadata": {},
   "outputs": [],
   "source": [
    "c = pl.load_one('data/pa_debug/covid19lit.conll', 'conll')\n",
    "for document in c:\n",
    "    title = document[0].text\n",
    "    pmcid = document.id_\n",
    "    \n",
    "    outfile = os.path.join('data/pa_debug_json',pmcid + '.json')\n",
    "    with open(outfile, 'w', encoding='utf8') as g:\n",
    "        pl.write(document, 'pubanno_json', g)\n",
    "    with open(outfile, 'r+', encoding='utf8') as g:\n",
    "        bad_json = json.load(g)\n",
    "        bad_json[\"sourcedb\"] = \"pubmed\"\n",
    "        good_json = bad_json\n",
    "        g.truncate(0)\n",
    "        g.seek(0)\n",
    "        json.dump(good_json, g, indent=2)"
   ]
  },
  {
   "cell_type": "code",
   "execution_count": 21,
   "metadata": {},
   "outputs": [],
   "source": [
    "from oger.ctrl.router import Router, PipelineServer\n",
    "pl = PipelineServer(Router())\n",
    "import os\n",
    "collection = pl.load_one('data/merged_pmc/hoy.conll', 'conll',pubanno_meta='{\"sourcedb\":\"pmc\"}')\n"
   ]
  },
  {
   "cell_type": "code",
   "execution_count": 23,
   "metadata": {},
   "outputs": [
    {
     "name": "stdout",
     "output_type": "stream",
     "text": [
      "{'subelements': [<Section with 1 subelement at 0x11928f100>, <Section with 166 subelements at 0x11928f130>], 'id_': '6988269', '_metadata': None, 'basename': None, 'tokenizer': <oger.nlp.tokenize.Text_processing object at 0x119286d90>, 'type_': None, 'year': None, '_char_cursor': 0}\n",
      "-----------\n",
      "{'subelements': [<Sentence with 0 subelements at 0x11928f190>], 'id_': 0, '_metadata': None, 'type_': 'title', 'article': <Article with 2 subelements at 0x11928f070>, '_text': None, 'start': 0, 'end': 67}\n",
      "-----------\n",
      "{'subelements': [<Sentence with 0 subelements at 0x11928f160>, <Sentence with 0 subelements at 0x11928f1c0>, <Sentence with 0 subelements at 0x11928f250>, <Sentence with 0 subelements at 0x11928f1f0>, <Sentence with 0 subelements at 0x11928f280>, <Sentence with 0 subelements at 0x11928f2b0>, <Sentence with 0 subelements at 0x11928f3a0>, <Sentence with 0 subelements at 0x11928f2e0>, <Sentence with 0 subelements at 0x11928f430>, <Sentence with 0 subelements at 0x11928f340>, <Sentence with 0 subelements at 0x11928f400>, <Sentence with 0 subelements at 0x11928f3d0>, <Sentence with 0 subelements at 0x11928f490>, <Sentence with 0 subelements at 0x11928f4c0>, <Sentence with 0 subelements at 0x11928f4f0>, <Sentence with 0 subelements at 0x11928f580>, <Sentence with 0 subelements at 0x11928f520>, <Sentence with 0 subelements at 0x11928f5b0>, <Sentence with 0 subelements at 0x11928f5e0>, <Sentence with 0 subelements at 0x11928f310>, <Sentence with 0 subelements at 0x11928f610>, <Sentence with 0 subelements at 0x11928f6d0>, <Sentence with 0 subelements at 0x11928f700>, <Sentence with 0 subelements at 0x11928f6a0>, <Sentence with 0 subelements at 0x11928f760>, <Sentence with 0 subelements at 0x11928f670>, <Sentence with 0 subelements at 0x11928f820>, <Sentence with 0 subelements at 0x11928f880>, <Sentence with 0 subelements at 0x11928f8e0>, <Sentence with 0 subelements at 0x11928f7f0>, <Sentence with 0 subelements at 0x11928f910>, <Sentence with 0 subelements at 0x11928f970>, <Sentence with 0 subelements at 0x11928fa60>, <Sentence with 0 subelements at 0x11928fa90>, <Sentence with 0 subelements at 0x11928f9a0>, <Sentence with 0 subelements at 0x11928fa30>, <Sentence with 0 subelements at 0x11928fac0>, <Sentence with 0 subelements at 0x11928faf0>, <Sentence with 0 subelements at 0x11928fb20>, <Sentence with 0 subelements at 0x11928fbb0>, <Sentence with 0 subelements at 0x11928fc10>, <Sentence with 0 subelements at 0x11928fbe0>, <Sentence with 0 subelements at 0x11928fb80>, <Sentence with 0 subelements at 0x11928fc40>, <Sentence with 0 subelements at 0x11928fc70>, <Sentence with 0 subelements at 0x11928fb50>, <Sentence with 0 subelements at 0x11928f940>, <Sentence with 0 subelements at 0x11928fd00>, <Sentence with 0 subelements at 0x11928fd60>, <Sentence with 0 subelements at 0x11928fd90>, <Sentence with 0 subelements at 0x11928fdc0>, <Sentence with 0 subelements at 0x11928fd30>, <Sentence with 0 subelements at 0x11928fdf0>, <Sentence with 0 subelements at 0x11928feb0>, <Sentence with 0 subelements at 0x11928fee0>, <Sentence with 0 subelements at 0x119286970>, <Sentence with 0 subelements at 0x119286670>, <Sentence with 0 subelements at 0x119286130>, <Sentence with 0 subelements at 0x119286a00>, <Sentence with 0 subelements at 0x1192867f0>, <Sentence with 0 subelements at 0x119286100>, <Sentence with 0 subelements at 0x119286040>, <Sentence with 0 subelements at 0x119286850>, <Sentence with 0 subelements at 0x1188d1df0>, <Sentence with 0 subelements at 0x11a397820>, <Sentence with 0 subelements at 0x11a3979a0>, <Sentence with 0 subelements at 0x11a397430>, <Sentence with 0 subelements at 0x11928f0a0>, <Sentence with 0 subelements at 0x11a3973d0>, <Sentence with 0 subelements at 0x11a397070>, <Sentence with 0 subelements at 0x11928ff10>, <Sentence with 0 subelements at 0x11928ff40>, <Sentence with 0 subelements at 0x11928fe80>, <Sentence with 0 subelements at 0x11928ffa0>, <Sentence with 0 subelements at 0x1192a1070>, <Sentence with 0 subelements at 0x1192a10a0>, <Sentence with 0 subelements at 0x1192a1040>, <Sentence with 0 subelements at 0x1192a10d0>, <Sentence with 0 subelements at 0x1192a1100>, <Sentence with 0 subelements at 0x1192a1130>, <Sentence with 0 subelements at 0x1192a1160>, <Sentence with 0 subelements at 0x1192a11f0>, <Sentence with 0 subelements at 0x1192a11c0>, <Sentence with 0 subelements at 0x1192a1220>, <Sentence with 0 subelements at 0x1192a12b0>, <Sentence with 0 subelements at 0x1192a1250>, <Sentence with 0 subelements at 0x1192a12e0>, <Sentence with 0 subelements at 0x1192a1310>, <Sentence with 0 subelements at 0x1192a13a0>, <Sentence with 0 subelements at 0x1192a1340>, <Sentence with 0 subelements at 0x1192a1430>, <Sentence with 0 subelements at 0x1192a13d0>, <Sentence with 0 subelements at 0x1192a1460>, <Sentence with 0 subelements at 0x1192a1490>, <Sentence with 0 subelements at 0x1192a1520>, <Sentence with 0 subelements at 0x1192a1580>, <Sentence with 0 subelements at 0x1192a15e0>, <Sentence with 0 subelements at 0x1192a1640>, <Sentence with 0 subelements at 0x1192a14c0>, <Sentence with 0 subelements at 0x1192a1670>, <Sentence with 0 subelements at 0x1192a16a0>, <Sentence with 0 subelements at 0x1192a16d0>, <Sentence with 0 subelements at 0x1192a1700>, <Sentence with 0 subelements at 0x1192a1730>, <Sentence with 0 subelements at 0x1192a1820>, <Sentence with 0 subelements at 0x1192a1760>, <Sentence with 0 subelements at 0x1192a1790>, <Sentence with 0 subelements at 0x1192a1850>, <Sentence with 0 subelements at 0x1192a17f0>, <Sentence with 0 subelements at 0x1192a19d0>, <Sentence with 0 subelements at 0x1192a1880>, <Sentence with 0 subelements at 0x1192a1940>, <Sentence with 0 subelements at 0x1192a1a00>, <Sentence with 0 subelements at 0x1192a19a0>, <Sentence with 0 subelements at 0x1192a18e0>, <Sentence with 0 subelements at 0x1192a1a30>, <Sentence with 0 subelements at 0x1192a1a60>, <Sentence with 0 subelements at 0x1192a1a90>, <Sentence with 0 subelements at 0x1192a1b20>, <Sentence with 0 subelements at 0x1192a1b80>, <Sentence with 0 subelements at 0x1192a1be0>, <Sentence with 0 subelements at 0x1192a1ac0>, <Sentence with 0 subelements at 0x1192a1c10>, <Sentence with 0 subelements at 0x1192a1ca0>, <Sentence with 0 subelements at 0x1192a1c40>, <Sentence with 0 subelements at 0x1192a1d30>, <Sentence with 0 subelements at 0x1192a1cd0>, <Sentence with 0 subelements at 0x1192a1dc0>, <Sentence with 0 subelements at 0x1192a1d60>, <Sentence with 0 subelements at 0x1192a1df0>, <Sentence with 0 subelements at 0x1192a1e80>, <Sentence with 0 subelements at 0x1192a1ee0>, <Sentence with 0 subelements at 0x1192a1e20>, <Sentence with 0 subelements at 0x1192a1f10>, <Sentence with 0 subelements at 0x1192a1fa0>, <Sentence with 0 subelements at 0x1192b5040>, <Sentence with 0 subelements at 0x1192b5070>, <Sentence with 0 subelements at 0x1192b50d0>, <Sentence with 0 subelements at 0x1192b50a0>, <Sentence with 0 subelements at 0x1192b5160>, <Sentence with 0 subelements at 0x1192b5100>, <Sentence with 0 subelements at 0x1192b5190>, <Sentence with 0 subelements at 0x1192b5220>, <Sentence with 0 subelements at 0x1192b51c0>, <Sentence with 0 subelements at 0x1192b52b0>, <Sentence with 0 subelements at 0x1192b5310>, <Sentence with 0 subelements at 0x1192b5250>, <Sentence with 0 subelements at 0x1192b5340>, <Sentence with 0 subelements at 0x1192b53d0>, <Sentence with 0 subelements at 0x1192b5370>, <Sentence with 0 subelements at 0x1192b5400>, <Sentence with 0 subelements at 0x1192b5490>, <Sentence with 0 subelements at 0x1192b5430>, <Sentence with 0 subelements at 0x1192b54c0>, <Sentence with 0 subelements at 0x1192b54f0>, <Sentence with 0 subelements at 0x1192b5580>, <Sentence with 0 subelements at 0x1192b55b0>, <Sentence with 0 subelements at 0x1192b5550>, <Sentence with 0 subelements at 0x1192b5520>, <Sentence with 0 subelements at 0x1192b5640>, <Sentence with 0 subelements at 0x1192b56d0>, <Sentence with 0 subelements at 0x1192b56a0>, <Sentence with 0 subelements at 0x1192b5700>, <Sentence with 0 subelements at 0x1192b5730>, <Sentence with 0 subelements at 0x1192b5760>, <Sentence with 0 subelements at 0x1192b5790>], 'id_': 1, '_metadata': None, 'type_': 'body', 'article': <Article with 2 subelements at 0x11928f070>, '_text': None, 'start': 69, 'end': 21653}\n"
     ]
    }
   ],
   "source": [
    "document = collection[0]\n",
    "print(document.__dict__)\n",
    "for section in document:\n",
    "    print(\"-----------\")\n",
    "    print(section.__dict__)"
   ]
  },
  {
   "cell_type": "code",
   "execution_count": null,
   "metadata": {},
   "outputs": [],
   "source": []
  },
  {
   "cell_type": "code",
   "execution_count": null,
   "metadata": {},
   "outputs": [],
   "source": [
    "        \n",
    "    title = document[0].text\n",
    "    pmid = document.id_\n",
    "    if not os.path.exists('data/merged_div_jsons_pmc'):\n",
    "        os.makedirs('data/merged_div_jsons_pmc')\n",
    "outfile = os.path.join('data/merged_div_jsons_pmc', pmid + '.json')\n",
    "    with open(outfile, 'w', encoding='utf8') as g:\n",
    "        pl.write(document, 'pubanno_json', g)\n",
    "    with open(outfile,'r+', encoding='utf8') as g:\n",
    "        bad_json = json.load(g)\n",
    "        bad_json['sourcedb'] = 'pmc'\n",
    "        good_json = bad_json\n",
    "        g.truncate(0)\n",
    "        g.seek(0)\n",
    "        json.dump(good_json, g)"
   ]
  },
  {
   "cell_type": "code",
   "execution_count": 21,
   "metadata": {},
   "outputs": [
    {
     "name": "stdout",
     "output_type": "stream",
     "text": [
      "5500\n"
     ]
    },
    {
     "data": {
      "text/plain": [
       "11    7118643\n",
       "37    7151469\n",
       "47    7128271\n",
       "56    7128118\n",
       "57    7136733\n",
       "Name: PMCID, dtype: object"
      ]
     },
     "execution_count": 21,
     "metadata": {},
     "output_type": "execute_result"
    }
   ],
   "source": [
    "import pandas\n",
    "new_pmcids = pandas.read_csv('data/ids/PMID-PMC_20042020 - pmid_pmcid.tsv',sep='\\t')\n",
    "old_pmcids = pandas.read_csv('data/ids/pmid_pmcid.tsv',sep='\\t')\n",
    "\n",
    "new_pmcids.dropna(subset=['PMCID'], inplace=True)\n",
    "print(new_pmcids.size)\n",
    "\n",
    "filtered_pmcids = new_pmcids[~new_pmcids['PMCID'].isin(old_pmcids ['PMCID'])]['PMCID'].str.slice(3)\n",
    "filtered_pmcids.to_csv('data/ids/pmcids.txt', index=False, header=False)\n",
    "\n",
    "# drop 7186534, 7114930"
   ]
  },
  {
   "cell_type": "code",
   "execution_count": null,
   "metadata": {},
   "outputs": [],
   "source": []
  }
 ],
 "metadata": {
  "kernelspec": {
   "display_name": "Python 3",
   "language": "python",
   "name": "python3"
  },
  "language_info": {
   "codemirror_mode": {
    "name": "ipython",
    "version": 3
   },
   "file_extension": ".py",
   "mimetype": "text/x-python",
   "name": "python",
   "nbconvert_exporter": "python",
   "pygments_lexer": "ipython3",
   "version": "3.8.2"
  }
 },
 "nbformat": 4,
 "nbformat_minor": 4
}
